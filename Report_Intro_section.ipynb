{
 "cells": [
  {
   "cell_type": "markdown",
   "metadata": {},
   "source": [
    "### Introduction/Business Problem\n",
    "An entepreneur wants to open 5 tea stores in New York city selling also Yoga, meditation and alternative medicine equipment/books/tools/etc. She wants to find out how Yoga-related venues are distributed in the area, and how efficiently these could be clustered to be served by each of the 5 stores in proximity, optimally within walking distance and with minimum number of river and bridge crossings (to make it easier for cyclists and walkers)."
   ]
  },
  {
   "cell_type": "code",
   "execution_count": null,
   "metadata": {},
   "outputs": [],
   "source": []
  }
 ],
 "metadata": {
  "kernelspec": {
   "display_name": "Python 3",
   "language": "python",
   "name": "python3"
  },
  "language_info": {
   "codemirror_mode": {
    "name": "ipython",
    "version": 3
   },
   "file_extension": ".py",
   "mimetype": "text/x-python",
   "name": "python",
   "nbconvert_exporter": "python",
   "pygments_lexer": "ipython3",
   "version": "3.6.6"
  }
 },
 "nbformat": 4,
 "nbformat_minor": 2
}
