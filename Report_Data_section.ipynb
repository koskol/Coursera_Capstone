{
 "cells": [
  {
   "cell_type": "markdown",
   "metadata": {},
   "source": [
    "### Data\n",
    "\n",
    "In order to address the business problem, we will first need to compile a list of all yoga-related venues and their location data within a specific radius of New York City. To obtain these data we will Foursquare's databased using their  API and in particular the 'explore' endpoint  via a Regular API call containing the query \"Yoga Studio\", being the predominant Foursquare database category for yoga-related venues.\n",
    "These data, after all necessary extraction, pre-processing and loading steps, will be fed into a clustering analysis in order to answer the business requirement.\n"
   ]
  }
 ],
 "metadata": {
  "kernelspec": {
   "display_name": "Python 3",
   "language": "python",
   "name": "python3"
  },
  "language_info": {
   "codemirror_mode": {
    "name": "ipython",
    "version": 3
   },
   "file_extension": ".py",
   "mimetype": "text/x-python",
   "name": "python",
   "nbconvert_exporter": "python",
   "pygments_lexer": "ipython3",
   "version": "3.6.6"
  }
 },
 "nbformat": 4,
 "nbformat_minor": 2
}
