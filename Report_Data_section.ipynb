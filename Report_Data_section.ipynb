{
 "cells": [
  {
   "cell_type": "markdown",
   "metadata": {},
   "source": [
    "## Capstone Project \n",
    "### B. Data\n",
    "\n",
    "In order to address the business problem, we will first need to compile a list of all yoga-related venues and their location data within a specific radius of New York City. To obtain these data we will use Foursquare's database via their API.\n",
    "In particular we will use the 'explore' endpoint via a Regular API call containing the query \"Yoga Studio\", being the predominant Foursquare database category for yoga-related venues. The main data we are interested in retrieving are Venue Name, Latitude and Longitude. We will then extract, pre-process and load the data into a framework (dataframe) ready for modeling and evaluation."
   ]
  },
  {
   "cell_type": "code",
   "execution_count": null,
   "metadata": {},
   "outputs": [],
   "source": []
  }
 ],
 "metadata": {
  "kernelspec": {
   "display_name": "Python 3",
   "language": "python",
   "name": "python3"
  },
  "language_info": {
   "codemirror_mode": {
    "name": "ipython",
    "version": 3
   },
   "file_extension": ".py",
   "mimetype": "text/x-python",
   "name": "python",
   "nbconvert_exporter": "python",
   "pygments_lexer": "ipython3",
   "version": "3.6.6"
  }
 },
 "nbformat": 4,
 "nbformat_minor": 2
}
