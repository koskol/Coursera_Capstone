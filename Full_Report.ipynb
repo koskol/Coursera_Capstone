{
 "cells": [
  {
   "cell_type": "markdown",
   "metadata": {},
   "source": [
    "## Capstone Project\n",
    "### A. Introduction/Business Problem\n",
    "A business (stakeholder/target audience) want to open 5 tea stores in New York city selling also Yoga, meditation and alternative medicine equipment/books/tools/etc. They want to find out how Yoga-related venues are distributed in the area, and how efficiently these could be clustered to be served by each of the 5 stores in proximity, optimally within walking distance and with minimum number of river and bridge crossings (to make it easier for cyclists and walkers). "
   ]
  },
  {
   "cell_type": "markdown",
   "metadata": {},
   "source": [
    "### B. Data\n",
    "\n",
    "In order to address the business problem, we will first need to compile a list of all yoga-related venues and their location data within a specific radius of New York City. To obtain these data we will use Foursquare's database via their API.\n",
    "In particular we will use the 'explore' endpoint via a Regular API call containing the query \"Yoga Studio\", being the predominant Foursquare database category for yoga-related venues. The main data we are interested in retrieving are Venue Name, Latitude and Longitude. We will then extract, pre-process and load the data into a framework (dataframe) ready for modeling and evaluation."
   ]
  },
  {
   "cell_type": "markdown",
   "metadata": {},
   "source": [
    "### C. Methodology\n",
    "**Data Understanding & Preparation**\n",
    "Yoga-related venue data were retrieved from the Foursquare database in a JSON format, which had to be processed so that all relevant data could be loaded into a pandas dataframe for subsequent modeling and evaluation.\n",
    "\n",
    "**Exploratory data analysis**\n",
    "The initial dataset of yoga-related venues within a radius of 5km of New York City geographical centre was visualized superimposed on top of the city map. This provided a view on the geographical spread of the venues, and gave insights on possible challenges in covering distant and across-the-river venues.\n",
    "\n",
    "**Modeling**\n",
    "k-means was selected as the clustering algorithm for the purposes of this project. It is one of the simplest clustering models however despite its simplicity it is especially useful for quickly discovering insights from unlabeled data. \n",
    "\n",
    "Initially the distance of venues from specific New York neighborhoods was used as the Feature Matrix for the k-means algorithm, however this choice eventualy proved inefficient as it was difficult to establish which neighborhoods are optimally located as centres.\n",
    "\n",
    "It was then decided to use the two geographical coordinates (latitude, longitude) of the venues as the feature set, aiming to get the algorithm to provide optimal clusters based on the similarity of venues' two geographical coordinates. The k-means algorithm was setup to run 10 times with different centroids, with the best outcome as final result."
   ]
  },
  {
   "cell_type": "markdown",
   "metadata": {},
   "source": [
    "### D. Results\n",
    "The k-means algorithm grouped 100 venues in 5 clusters. 4 out of 5 clusters contain significant number of venues in proximity to their optimal centroid, in order to justify opening a yoga-related tea store at or near the cluster's centroid. Only one cluster contains a couple of across-the-river venues, however the number is a very small percentage of the total number of venues the cluster contains. "
   ]
  },
  {
   "cell_type": "markdown",
   "metadata": {},
   "source": [
    "### E. Discussion\n",
    "An interesting observation is that the k-means algorithm was succesful in \"taking into account\" the presence of the river, producing 4 clusters that are not separated by any body of water. "
   ]
  },
  {
   "cell_type": "markdown",
   "metadata": {},
   "source": [
    "### F. Conclusion\n",
    "This exercise aimed to address in highly qualified way a simple question using similarly simple but powerful techniques."
   ]
  }
 ],
 "metadata": {
  "kernelspec": {
   "display_name": "Python 3",
   "language": "python",
   "name": "python3"
  },
  "language_info": {
   "codemirror_mode": {
    "name": "ipython",
    "version": 3
   },
   "file_extension": ".py",
   "mimetype": "text/x-python",
   "name": "python",
   "nbconvert_exporter": "python",
   "pygments_lexer": "ipython3",
   "version": "3.6.6"
  }
 },
 "nbformat": 4,
 "nbformat_minor": 2
}
